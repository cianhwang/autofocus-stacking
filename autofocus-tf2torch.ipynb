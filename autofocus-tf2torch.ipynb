{
 "cells": [
  {
   "cell_type": "code",
   "execution_count": 1,
   "metadata": {},
   "outputs": [],
   "source": [
    "#!/usr/bin/env python\n",
    "# coding: utf-8\n",
    "\n",
    "# In[1]:\n",
    "\n",
    "\n",
    "import torch\n",
    "import torch.nn as nn\n",
    "import torch.nn.functional as F\n",
    "import pickle\n",
    "import cv2\n",
    "import numpy as np"
   ]
  },
  {
   "cell_type": "code",
   "execution_count": 2,
   "metadata": {},
   "outputs": [],
   "source": [
    "# In[2]:\n",
    "\n",
    "\n",
    "# with open('weights.data', 'rb') as filehandle:\n",
    "#     Weights = pickle.load(filehandle)\n",
    "\n",
    "\n",
    "# In[4]:\n",
    "\n",
    "\n",
    "class pixel_estimator_with_weights(nn.Module):\n",
    "    def __init__(self, Weights,device = \"cuda:0\"):\n",
    "        ## Default: gpu mode\n",
    "        super(pixel_estimator_with_weights, self).__init__()\n",
    "        self.device = torch.device(device)\n",
    "        self.w1 = torch.from_numpy(Weights[0].transpose(3,2,0,1)).to(self.device)\n",
    "        self.b1 = torch.from_numpy(Weights[1]).to(self.device)\n",
    "        self.w2 = torch.tensor(Weights[2].transpose(3,2,0,1)).to(self.device)\n",
    "        self.b2 = torch.tensor(Weights[3]).to(self.device)\n",
    "        self.w3 = torch.tensor(Weights[4].transpose(3,2,0,1)).to(self.device)\n",
    "        self.b3 = torch.tensor(Weights[5]).to(self.device)\n",
    "        self.w4 = torch.tensor(Weights[6]).reshape(4,4,8,1024).permute(3,2,0,1).to(self.device)\n",
    "        self.b4 = torch.tensor(Weights[7]).to(self.device)\n",
    "        self.w5 = torch.tensor(Weights[8]).reshape(1,1,1024,512).permute(3,2,0,1).to(self.device)\n",
    "        self.b5 = torch.tensor(Weights[9]).to(self.device)\n",
    "        self.w6 = torch.tensor(Weights[10]).reshape(1,1,512,10).permute(3,2,0,1).to(self.device)\n",
    "        self.b6 = torch.tensor(Weights[11]).to(self.device)\n",
    "        self.w7 = torch.tensor(Weights[12]).reshape(1,1,10,1).permute(3,2,0,1).to(self.device)\n",
    "        self.b7 = torch.tensor(Weights[13]).to(self.device)\n",
    "\n",
    "    def forward(self, x):\n",
    "        x = F.relu(F.conv2d(x,self.w1,bias = self.b1,stride=1))\n",
    "        x = F.relu(F.conv2d(x,self.w2,bias = self.b2,stride=1,dilation=8))\n",
    "        x = F.relu(F.conv2d(x,self.w3,bias = self.b3,stride=1,dilation=32))\n",
    "        x = F.leaky_relu(F.conv2d(x,self.w4,bias = self.b4,stride=1,dilation=128),0.1)\n",
    "        x = F.leaky_relu(F.conv2d(x,self.w5,bias = self.b5,stride=1),0.1)\n",
    "        x = F.leaky_relu(F.conv2d(x,self.w6,bias = self.b6,stride=1),0.1)\n",
    "        x = F.conv2d(x,self.w7,bias = self.b7,stride=1)\n",
    "        return x"
   ]
  },
  {
   "cell_type": "code",
   "execution_count": 3,
   "metadata": {},
   "outputs": [],
   "source": [
    "# import tensorflow\n",
    "# from tensorflow.keras import backend as K\n",
    "# from tensorflow.python.keras.models import load_model\n",
    "# dist_est_net = load_model('050-0.65.hdf5')\n",
    "# # func = K.function(keras_model.layers[0].input,keras_model.layers[0].output)\n",
    "# # a = func(DATA)"
   ]
  },
  {
   "cell_type": "code",
   "execution_count": 4,
   "metadata": {},
   "outputs": [],
   "source": [
    "# Weights = dist_est_net.get_weights()"
   ]
  },
  {
   "cell_type": "code",
   "execution_count": 5,
   "metadata": {},
   "outputs": [],
   "source": [
    "# model = pixel_estimator_with_weights(Weights)"
   ]
  },
  {
   "cell_type": "code",
   "execution_count": 6,
   "metadata": {},
   "outputs": [],
   "source": [
    "# torch.save(model, 'autofocus_cpu.pth')"
   ]
  },
  {
   "cell_type": "code",
   "execution_count": 7,
   "metadata": {},
   "outputs": [
    {
     "data": {
      "text/plain": [
       "pixel_estimator_with_weights()"
      ]
     },
     "execution_count": 7,
     "metadata": {},
     "output_type": "execute_result"
    }
   ],
   "source": [
    "model = torch.load('autofocus.pth')\n",
    "model.eval()"
   ]
  },
  {
   "cell_type": "code",
   "execution_count": 8,
   "metadata": {},
   "outputs": [
    {
     "name": "stdout",
     "output_type": "stream",
     "text": [
      "torch.Size([1, 1, 513, 513])\n"
     ]
    }
   ],
   "source": [
    "a = torch.ones(1, 1, 1024, 1024).to('cuda:0')\n",
    "with torch.no_grad():\n",
    "    b = model(a)\n",
    "print(b.size())"
   ]
  },
  {
   "cell_type": "code",
   "execution_count": null,
   "metadata": {},
   "outputs": [],
   "source": []
  }
 ],
 "metadata": {
  "kernelspec": {
   "display_name": "Python 3",
   "language": "python",
   "name": "python3"
  },
  "language_info": {
   "codemirror_mode": {
    "name": "ipython",
    "version": 3
   },
   "file_extension": ".py",
   "mimetype": "text/x-python",
   "name": "python",
   "nbconvert_exporter": "python",
   "pygments_lexer": "ipython3",
   "version": "3.6.9"
  }
 },
 "nbformat": 4,
 "nbformat_minor": 2
}
