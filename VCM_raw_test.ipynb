{
 "cells": [
  {
   "cell_type": "markdown",
   "metadata": {},
   "source": [
    "# VCM Grab n Focus Ctrl"
   ]
  },
  {
   "cell_type": "code",
   "execution_count": 1,
   "metadata": {},
   "outputs": [],
   "source": [
    "import numpy as np\n",
    "import subprocess\n",
    "import glob\n",
    "import skimage.io as imio\n",
    "import re\n",
    "from skimage.color import rgb2gray\n",
    "import skimage\n",
    "import matplotlib.pyplot as plt\n",
    "%matplotlib inline"
   ]
  },
  {
   "cell_type": "code",
   "execution_count": 2,
   "metadata": {},
   "outputs": [],
   "source": [
    "## ip good for the period of quarantine\n",
    "IP = '10.236.176.152'\n",
    "SID = 0"
   ]
  },
  {
   "cell_type": "code",
   "execution_count": 3,
   "metadata": {},
   "outputs": [],
   "source": [
    "## echo + sudo -S is to bypass the pw\n",
    "## good for the purple module with 2 VCMs mounted\n",
    "\n",
    "def initialFocus(sid=SID, ip = IP):\n",
    "    cmD='ssh nvidia@'+ip+' \"echo \"nvidia\" | sudo -S ~/Documents/cam_on_Tegra/testCamera -id '+str(sid)+' -init \"'\n",
    "    pop=subprocess.run(cmD, stdout=subprocess.PIPE, shell=True)\n",
    "    return pop.stdout\n",
    "def moveFocus(sid=SID, pos=512, ip = IP):\n",
    "    cmD='ssh nvidia@'+ip+' \"echo \"nvidia\" | sudo -S ~/Documents/cam_on_Tegra/testCamera -id '+str(sid)+' -mod '+str(pos)+'\"'\n",
    "    pop=subprocess.run(cmD, stdout=subprocess.PIPE, shell=True)\n",
    "    return pop.stdout\n",
    "def setFocus(sid=SID, pos=512, ip = IP):\n",
    "    cmD='ssh nvidia@'+ip+' \"echo \"nvidia\" | sudo -S ~/Documents/cam_on_Tegra/testCamera -id '+str(sid)+' -set '+str(pos)+'\"'\n",
    "    pop=subprocess.run(cmD, stdout=subprocess.PIPE, shell=True)\n",
    "    return pop.stdout\n",
    "\n",
    "def grab_image(sid=SID, imres=8, ip = IP):\n",
    "\n",
    "    subprocess.run('ssh nvidia@'+ip+' \"rm testGrab*\"', \\\n",
    "                   stdout=subprocess.PIPE, shell=True)\n",
    "    subprocess.run('rm testGrab*', \\\n",
    "                    stdout=subprocess.PIPE, shell=True)\n",
    "\n",
    "    subprocess.run('ssh nvidia@'+ip+' \"nvgstcapture-1.0 -m 1 --sensor-id '+str(sid)+' -A --capture-auto 1 \\\n",
    "                    --file-name testGrab --image-res '+str(imres)+'\"', stdout=subprocess.PIPE, shell=True)\n",
    "    subprocess.run('scp nvidia@'+ip+':testGrab* .', \\\n",
    "                   stdout=subprocess.PIPE, shell=True)\n",
    "    pop=subprocess.run('ls',stdout=subprocess.PIPE, shell=True)\n",
    "    rePop=pop.stdout\n",
    "    rePop=rePop.decode(\"utf-8\")\n",
    "    fileName = re.search(r'testGrab(.*).jpg', rePop)\n",
    "    fileName=fileName.group()\n",
    "    pop=imio.imread(fileName)\n",
    "    pop=skimage.transform.rotate(pop,180)\n",
    "    \n",
    "    return pop"
   ]
  },
  {
   "cell_type": "code",
   "execution_count": 4,
   "metadata": {},
   "outputs": [],
   "source": [
    "def grab_raw(sid=SID, imres=8, cameraIP=IP, expoTime = 0.1):\n",
    "    # I will use the file name qhGrab.... for the image grabbed from the camera. First step is to get rid of previously grabbed images\n",
    "    cmdA='ssh nvidia@'+cameraIP\n",
    "    cmdB='scp nvidia@'+cameraIP\n",
    "    subprocess.run('rm qhGrab*', \\\n",
    "                   stdout=subprocess.PIPE, shell=True)\n",
    "    subprocess.run('rm *raw', \\\n",
    "                   stdout=subprocess.PIPE, shell=True)\n",
    "    # ok, now let's grab an image on the tegra\n",
    "    cmD=cmdA+' \"nvgstcapture-1.0 -m 1 --sensor-id '+str(sid)+' -A --capture-auto 1 --dump-bayer\\\n",
    " --file-name qhGrab --aeLock --exposure-time='+str(expoTime)+ ' --image-res '+ str(imres)+'\"'\n",
    "    subprocess.run(cmD, stdout=subprocess.PIPE, shell=True)\n",
    "    tCmd=cmdB+':qhGrab* .'\n",
    "    subprocess.run(cmdB+':qhGrab* .', \\\n",
    "                   stdout=subprocess.PIPE, shell=True)\n",
    "    subprocess.run(cmdB+':*.raw .', \\\n",
    "                   stdout=subprocess.PIPE, shell=True)\n",
    "    #ok, now let's find the file name of the image we just grabbed and transfered \n",
    "    pop=subprocess.run('ls',stdout=subprocess.PIPE, shell=True)\n",
    "    rePop=pop.stdout\n",
    "    rePop=rePop.decode(\"utf-8\")\n",
    "    fileName = re.search(r'qhGrab(.*).jpg', rePop)\n",
    "    fileName=fileName.group()\n",
    "    jIm=imio.imread(fileName)\n",
    "    jIm=skimage.transform.rotate(jIm,180)\n",
    "    fileName = re.search(r'nvcamtest_bayer(.*).raw', rePop)\n",
    "    fileName=fileName.group()\n",
    "\n",
    "    rIm=np.fromfile(fileName,dtype=np.dtype('i2'))\n",
    "    # Note the array dtype above of >i2. The > means ‘big-endian’ (< is little-endian)\n",
    "    # and i2 means ‘signed 2-byte integer’. For example, if our data represented a \n",
    "    # single unsigned 4-byte little-endian integer, the dtype string would be < u4 .\n",
    "    rows=2160\n",
    "    runL=3840\n",
    "    rIm=np.reshape(rIm[:rows*runL],(rows,runL))\n",
    "    \n",
    "    subprocess.run(cmdA+' \"mv qhGrab* ~/Desktop/\"', \\\n",
    "                   stdout=subprocess.PIPE, shell=True)\n",
    "    subprocess.run(cmdA+' \"mv *.raw ~/Desktop/\"', \\\n",
    "                   stdout=subprocess.PIPE, shell=True)\n",
    "    return jIm, rIm"
   ]
  },
  {
   "cell_type": "code",
   "execution_count": 5,
   "metadata": {},
   "outputs": [],
   "source": [
    "# initialFocus()"
   ]
  },
  {
   "cell_type": "code",
   "execution_count": 6,
   "metadata": {},
   "outputs": [],
   "source": [
    "curr = 512\n",
    "setFocus(pos = curr)\n",
    "\n",
    "for expo_time in np.logspace(-4.0, -1.0, num=4):\n",
    "    jIm, rIm = grab_raw(expoTime = expo_time)\n",
    "# # gray_img = rgb2gray(img)\n",
    "\n",
    "# plt.figure(figsize=(20, 16))\n",
    "# plt.imshow(jIm)\n",
    "# plt.show()"
   ]
  },
  {
   "cell_type": "code",
   "execution_count": 7,
   "metadata": {},
   "outputs": [],
   "source": [
    "# fig, ax = plt.subplots(1, 2, figsize=(20, 16))\n",
    "# ax[0].imshow(jIm)\n",
    "# ax[1].imshow(rIm)\n",
    "# fig.show()"
   ]
  }
 ],
 "metadata": {
  "kernelspec": {
   "display_name": "Python 3",
   "language": "python",
   "name": "python3"
  },
  "language_info": {
   "codemirror_mode": {
    "name": "ipython",
    "version": 3
   },
   "file_extension": ".py",
   "mimetype": "text/x-python",
   "name": "python",
   "nbconvert_exporter": "python",
   "pygments_lexer": "ipython3",
   "version": "3.6.9"
  }
 },
 "nbformat": 4,
 "nbformat_minor": 2
}
